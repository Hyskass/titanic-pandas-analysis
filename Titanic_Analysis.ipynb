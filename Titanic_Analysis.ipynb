{
 "cells": [
  {
   "cell_type": "code",
   "execution_count": null,
   "id": "5ae4e42f-3c74-45b2-88cc-567eb1a3ed8c",
   "metadata": {},
   "outputs": [],
   "source": [
    "import pandas as pd\n",
    "df = pd.read_csv('Titanic-Dataset.csv')\n",
    "print(df.head())"
   ]
  },
  {
   "cell_type": "code",
   "execution_count": null,
   "id": "38d8d4a7-5b68-49c8-9c8d-34011d4a274a",
   "metadata": {},
   "outputs": [],
   "source": [
    "print(\"Null values per column:\")\n",
    "df.isna().sum()"
   ]
  },
  {
   "cell_type": "code",
   "execution_count": null,
   "id": "bcef216a-3002-4838-8376-74fa698cf5c1",
   "metadata": {},
   "outputs": [],
   "source": [
    "#filling Age missing values with median age\n",
    "df['Age'] = df['Age'].fillna(df['Age'].median())\n",
    "\n",
    "#dropping cabin column due to too many null values\n",
    "df = df.drop('Cabin',axis=1)\n",
    "\n",
    "#filling embarked column with the most common value\n",
    "df['Embarked'] = df['Embarked'].fillna(df['Embarked'].mode()[0])\n",
    "\n",
    "#checking if our data is clean with no null values\n",
    "df.isna().sum()"
   ]
  },
  {
   "cell_type": "code",
   "execution_count": null,
   "id": "2cb4bb92-dc4a-4a21-ba75-6674a093c260",
   "metadata": {},
   "outputs": [],
   "source": [
    "print(\"Survival rate is \"+str((df['Survived'].mean()*100).round(2))+\"%\")"
   ]
  },
  {
   "cell_type": "code",
   "execution_count": null,
   "id": "b1a8a9a5-aec7-405a-9d28-fa1fe021c280",
   "metadata": {},
   "outputs": [],
   "source": [
    "print(\"average fare is : \"+str((df[\"Fare\"].mean()).round(2)))"
   ]
  },
  {
   "cell_type": "code",
   "execution_count": null,
   "id": "3134ec12-f7cb-474e-97e7-9ecb05959c33",
   "metadata": {},
   "outputs": [],
   "source": [
    "survival_by_sex = df.groupby(\"Sex\")[\"Survived\"].mean() * 100\n",
    "print(\"male survival rate: \" + str(survival_by_sex.loc[\"male\"].round(2)) + \"%\")\n",
    "print(\"female survival rate: \" + str(survival_by_sex.loc[\"female\"].round(2)) + \"%\")"
   ]
  },
  {
   "cell_type": "code",
   "execution_count": null,
   "id": "3642cd82-f153-4988-bb4f-0f5802a0f245",
   "metadata": {},
   "outputs": [],
   "source": [
    "avgAC = df.groupby('Pclass')['Age'].mean()\n",
    "print (\"1st class avg age : \" + str(avgAC.loc[1].round(2)))\n",
    "print (\"2nd class avg age : \" + str(avgAC.loc[2].round(2)))\n",
    "print (\"3rd class avg age : \" + str(avgAC.loc[3].round(2)))"
   ]
  },
  {
   "cell_type": "code",
   "execution_count": null,
   "id": "4ac8645c-63c2-4d31-9d43-8f5204445ac8",
   "metadata": {},
   "outputs": [],
   "source": [
    "num = df[(df['Fare']>100) & (df['Survived']==1)].shape[0]\n",
    "print (f\"Number of people with a fare above 100$ and have survived is : {num}\")"
   ]
  },
  {
   "cell_type": "code",
   "execution_count": null,
   "id": "4026cf83-2655-4a5d-896a-39083057d785",
   "metadata": {},
   "outputs": [],
   "source": [
    "U_18S = df[(df['Age'] < 18) & (df['Embarked'] == \"S\")].shape[0]\n",
    "print (f\"Number of underage people who embarked at port S is : {U_18S}\")"
   ]
  },
  {
   "cell_type": "code",
   "execution_count": null,
   "id": "8836b828-8d55-451f-9932-25837c59d75c",
   "metadata": {},
   "outputs": [],
   "source": [
    "new_df = df.groupby('Pclass')['Survived'].value_counts().unstack(fill_value=0)\n",
    "new_df.columns = ['Did Not Survive', 'Survived']\n",
    "print(\"Survival counts by Pclass:\\n\")\n",
    "print(new_df)"
   ]
  },
  {
   "cell_type": "code",
   "execution_count": null,
   "id": "bea868a8-ba0c-4693-94e3-85b21d201f59",
   "metadata": {},
   "outputs": [],
   "source": [
    "import matplotlib.pyplot as plt\n",
    "\n",
    "new_df.plot(kind='bar', stacked=True)\n",
    "plt.title('Survival Counts by Passenger Class')\n",
    "plt.xlabel('Passenger Class')\n",
    "plt.ylabel('Number of Passengers')\n",
    "plt.legend(title='Outcome')\n",
    "plt.xticks(rotation=0)  # Horizontal labels\n",
    "plt.savefig('survival_by_class.png')\n",
    "plt.show()"
   ]
  },
  {
   "cell_type": "code",
   "execution_count": null,
   "id": "a3205548-4aa5-422f-944f-248357f3f696",
   "metadata": {},
   "outputs": [],
   "source": []
  }
 ],
 "metadata": {
  "kernelspec": {
   "display_name": "Python 3 (ipykernel)",
   "language": "python",
   "name": "python3"
  },
  "language_info": {
   "codemirror_mode": {
    "name": "ipython",
    "version": 3
   },
   "file_extension": ".py",
   "mimetype": "text/x-python",
   "name": "python",
   "nbconvert_exporter": "python",
   "pygments_lexer": "ipython3",
   "version": "3.12.8"
  }
 },
 "nbformat": 4,
 "nbformat_minor": 5
}
